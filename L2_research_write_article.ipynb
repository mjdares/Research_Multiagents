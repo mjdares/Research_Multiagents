{
 "cells": [
  {
   "cell_type": "markdown",
   "metadata": {},
   "source": [
    "You can download the `requirements.txt` for this course from the workspace of this lab. `File --> Open...`"
   ]
  },
  {
   "cell_type": "markdown",
   "metadata": {},
   "source": [
    "# L2: Create Agents to Research and Write an Article\n",
    "\n",
    "In this lesson, you will be introduced to the foundational concepts of multi-agent systems and get an overview of the crewAI framework."
   ]
  },
  {
   "cell_type": "markdown",
   "metadata": {},
   "source": [
    "The libraries are already installed in the classroom. If you're running this notebook on your own machine, you can install the following:\n",
    "```Python\n",
    "!pip install crewai==0.28.8 crewai_tools==0.1.6 langchain_community==0.0.29\n",
    "```"
   ]
  },
  {
   "cell_type": "code",
   "execution_count": 28,
   "metadata": {
    "height": 64,
    "metadata": {}
   },
   "outputs": [],
   "source": [
    "# Warning control\n",
    "import warnings\n",
    "warnings.filterwarnings('ignore')"
   ]
  },
  {
   "cell_type": "markdown",
   "metadata": {},
   "source": [
    "- Import from the crewAI libray."
   ]
  },
  {
   "cell_type": "code",
   "execution_count": 29,
   "metadata": {
    "height": 30,
    "metadata": {}
   },
   "outputs": [],
   "source": [
    "from crewai import Agent, Task, Crew"
   ]
  },
  {
   "cell_type": "markdown",
   "metadata": {},
   "source": [
    "- As a LLM for your agents, you'll be using OpenAI's `gpt-3.5-turbo`.\n",
    "\n",
    "**Optional Note:** crewAI also allow other popular models to be used as a LLM for your Agents. You can see some of the examples at the [bottom of the notebook](#1)."
   ]
  },
  {
   "cell_type": "code",
   "execution_count": 30,
   "metadata": {
    "height": 98,
    "metadata": {}
   },
   "outputs": [],
   "source": [
    "import os\n",
    "from utils import get_openai_api_key\n",
    "\n",
    "openai_api_key = get_openai_api_key()\n",
    "os.environ[\"OPENAI_MODEL_NAME\"] = 'gpt-3.5-turbo'"
   ]
  },
  {
   "cell_type": "markdown",
   "metadata": {},
   "source": [
    "## Creating Agents\n",
    "\n",
    "- Define your Agents, and provide them a `role`, `goal` and `backstory`.\n",
    "- It has been seen that LLMs perform better when they are role playing."
   ]
  },
  {
   "cell_type": "markdown",
   "metadata": {},
   "source": [
    "### Agent: Planner\n",
    "\n",
    "**Note**: The benefit of using _multiple strings_ :\n",
    "```Python\n",
    "varname = \"line 1 of text\"\n",
    "          \"line 2 of text\"\n",
    "```\n",
    "\n",
    "versus the _triple quote docstring_:\n",
    "```Python\n",
    "varname = \"\"\"line 1 of text\n",
    "             line 2 of text\n",
    "          \"\"\"\n",
    "```\n",
    "is that it can avoid adding those whitespaces and newline characters, making it better formatted to be passed to the LLM."
   ]
  },
  {
   "cell_type": "code",
   "execution_count": 31,
   "metadata": {
    "height": 234,
    "metadata": {}
   },
   "outputs": [],
   "source": [
    "planner = Agent(\n",
    "    role=\"Content Planner\",\n",
    "    goal=\"Plan engaging and factually accurate content on {topic}\",\n",
    "    backstory=\"You're working on planning a blog article \"\n",
    "              \"about the topic: {topic}.\"\n",
    "              \"You collect information that helps the \"\n",
    "              \"audience learn something \"\n",
    "              \"and make informed decisions. \"\n",
    "              \"Your work is the basis for \"\n",
    "              \"the Content Writer to write an article on this topic.\",\n",
    "    allow_delegation=False,\n",
    "\tverbose=True\n",
    ")"
   ]
  },
  {
   "cell_type": "markdown",
   "metadata": {},
   "source": [
    "### Agent: Writer"
   ]
  },
  {
   "cell_type": "code",
   "execution_count": 32,
   "metadata": {
    "height": 370,
    "metadata": {}
   },
   "outputs": [],
   "source": [
    "writer = Agent(\n",
    "    role=\"Content Writer\",\n",
    "    goal=\"Write insightful and factually accurate \"\n",
    "         \"opinion piece about the topic: {topic}\",\n",
    "    backstory=\"You're working on a writing \"\n",
    "              \"a new opinion piece about the topic: {topic}. \"\n",
    "              \"You base your writing on the work of \"\n",
    "              \"the Content Planner, who provides an outline \"\n",
    "              \"and relevant context about the topic. \"\n",
    "              \"You follow the main objectives and \"\n",
    "              \"direction of the outline, \"\n",
    "              \"as provide by the Content Planner. \"\n",
    "              \"You also provide objective and impartial insights \"\n",
    "              \"and back them up with information \"\n",
    "              \"provide by the Content Planner. \"\n",
    "              \"You acknowledge in your opinion piece \"\n",
    "              \"when your statements are opinions \"\n",
    "              \"as opposed to objective statements.\",\n",
    "    allow_delegation=False,\n",
    "    verbose=True\n",
    ")"
   ]
  },
  {
   "cell_type": "markdown",
   "metadata": {},
   "source": [
    "### Agent: Editor"
   ]
  },
  {
   "cell_type": "code",
   "execution_count": 33,
   "metadata": {
    "height": 268,
    "metadata": {}
   },
   "outputs": [],
   "source": [
    "editor = Agent(\n",
    "    role=\"Editor\",\n",
    "    goal=\"Edit a given blog post to align with \"\n",
    "         \"the writing style of the organization. \",\n",
    "    backstory=\"You are an editor who receives a blog post \"\n",
    "              \"from the Content Writer. \"\n",
    "              \"Your goal is to review the blog post \"\n",
    "              \"to ensure that it follows journalistic best practices,\"\n",
    "              \"provides balanced viewpoints \"\n",
    "              \"when providing opinions or assertions, \"\n",
    "              \"and also avoids major controversial topics \"\n",
    "              \"or opinions when possible.\",\n",
    "    allow_delegation=False,\n",
    "    verbose=True\n",
    ")"
   ]
  },
  {
   "cell_type": "markdown",
   "metadata": {},
   "source": [
    "## Creating Tasks\n",
    "\n",
    "- Define your Tasks, and provide them a `description`, `expected_output` and `agent`."
   ]
  },
  {
   "cell_type": "markdown",
   "metadata": {},
   "source": [
    "### Task: Plan"
   ]
  },
  {
   "cell_type": "code",
   "execution_count": 34,
   "metadata": {
    "height": 268,
    "metadata": {}
   },
   "outputs": [],
   "source": [
    "plan = Task(\n",
    "    description=(\n",
    "        \"1. Prioritize the latest trends, key players, \"\n",
    "            \"and noteworthy news on {topic}.\\n\"\n",
    "        \"2. Identify the target audience, considering \"\n",
    "            \"their interests and pain points.\\n\"\n",
    "        \"3. Develop a detailed content outline including \"\n",
    "            \"an introduction, key points, and a call to action.\\n\"\n",
    "        \"4. Include SEO keywords and relevant data or sources.\"\n",
    "    ),\n",
    "    expected_output=\"A comprehensive content plan document \"\n",
    "        \"with an outline, audience analysis, \"\n",
    "        \"SEO keywords, and resources.\",\n",
    "    agent=planner,\n",
    ")"
   ]
  },
  {
   "cell_type": "markdown",
   "metadata": {},
   "source": [
    "### Task: Write"
   ]
  },
  {
   "cell_type": "code",
   "execution_count": 35,
   "metadata": {
    "height": 319,
    "metadata": {}
   },
   "outputs": [],
   "source": [
    "write = Task(\n",
    "    description=(\n",
    "        \"1. Use the content plan to craft a compelling \"\n",
    "            \"blog post on {topic}.\\n\"\n",
    "        \"2. Incorporate SEO keywords naturally.\\n\"\n",
    "\t\t\"3. Sections/Subtitles are properly named \"\n",
    "            \"in an engaging manner.\\n\"\n",
    "        \"4. Ensure the post is structured with an \"\n",
    "            \"engaging introduction, insightful body, \"\n",
    "            \"and a summarizing conclusion.\\n\"\n",
    "        \"5. Proofread for grammatical errors and \"\n",
    "            \"alignment with the brand's voice.\\n\"\n",
    "    ),\n",
    "    expected_output=\"A well-written blog post \"\n",
    "        \"in markdown format, ready for publication, \"\n",
    "        \"each section should have 2 or 3 paragraphs.\",\n",
    "    agent=writer,\n",
    ")"
   ]
  },
  {
   "cell_type": "markdown",
   "metadata": {},
   "source": [
    "### Task: Edit"
   ]
  },
  {
   "cell_type": "code",
   "execution_count": 36,
   "metadata": {
    "height": 166,
    "metadata": {}
   },
   "outputs": [],
   "source": [
    "edit = Task(\n",
    "    description=(\"Proofread the given blog post for \"\n",
    "                 \"grammatical errors and \"\n",
    "                 \"alignment with the brand's voice.\"),\n",
    "    expected_output=\"A well-written blog post in markdown format, \"\n",
    "                    \"ready for publication, \"\n",
    "                    \"each section should have 2 or 3 paragraphs.\",\n",
    "    agent=editor\n",
    ")"
   ]
  },
  {
   "cell_type": "markdown",
   "metadata": {},
   "source": [
    "## Creating the Crew\n",
    "\n",
    "- Create your crew of Agents\n",
    "- Pass the tasks to be performed by those agents.\n",
    "    - **Note**: *For this simple example*, the tasks will be performed sequentially (i.e they are dependent on each other), so the _order_ of the task in the list _matters_.\n",
    "- `verbose=2` allows you to see all the logs of the execution. "
   ]
  },
  {
   "cell_type": "code",
   "execution_count": 37,
   "metadata": {
    "height": 98,
    "metadata": {}
   },
   "outputs": [
    {
     "name": "stderr",
     "output_type": "stream",
     "text": [
      "2025-01-20 15:45:29,663 - 28516 - __init__.py-__init__:537 - WARNING: Overriding of current TracerProvider is not allowed\n"
     ]
    }
   ],
   "source": [
    "crew = Crew(\n",
    "    agents=[planner, writer, editor],\n",
    "    tasks=[plan, write, edit],\n",
    "    verbose=2\n",
    ")"
   ]
  },
  {
   "cell_type": "markdown",
   "metadata": {},
   "source": [
    "## Running the Crew"
   ]
  },
  {
   "cell_type": "markdown",
   "metadata": {},
   "source": [
    "**Note**: LLMs can provide different outputs for they same input, so what you get might be different than what you see in the video."
   ]
  },
  {
   "cell_type": "code",
   "execution_count": 38,
   "metadata": {
    "height": 30,
    "metadata": {}
   },
   "outputs": [
    {
     "name": "stdout",
     "output_type": "stream",
     "text": [
      "\u001b[1m\u001b[95m [DEBUG]: == Working Agent: Content Planner\u001b[00m\n",
      "\u001b[1m\u001b[95m [INFO]: == Starting Task: 1. Prioritize the latest trends, key players, and noteworthy news on AI Agents for Sales Automation in Interior Design & Home Decor.\n",
      "2. Identify the target audience, considering their interests and pain points.\n",
      "3. Develop a detailed content outline including an introduction, key points, and a call to action.\n",
      "4. Include SEO keywords and relevant data or sources.\u001b[00m\n",
      "\n",
      "\n",
      "\u001b[1m> Entering new CrewAgentExecutor chain...\u001b[0m\n",
      "\u001b[32;1m\u001b[1;3mI now can give a great answer\n",
      "\n",
      "Final Answer:\n",
      "\n",
      "Content Plan: AI Agents for Sales Automation in Interior Design & Home Decor\n",
      "\n",
      "Outline:\n",
      "I. Introduction\n",
      "- Definition of AI agents for sales automation in interior design & home decor\n",
      "- Importance of AI agents in the industry\n",
      "- Brief overview of key players in the market\n",
      "\n",
      "II. Latest Trends in AI Agents for Sales Automation\n",
      "- Personalization and customization features\n",
      "- Integration with virtual reality technology\n",
      "- Data-driven decision making\n",
      "- Enhanced customer engagement through AI chatbots\n",
      "\n",
      "III. Key Players in the Market\n",
      "- Mention of leading companies offering AI solutions for interior design & home decor sales\n",
      "- Showcase of successful case studies and their impact on the industry\n",
      "\n",
      "IV. Noteworthy News in the Industry\n",
      "- Recent developments in AI technology for sales automation\n",
      "- Impact of AI agents on improving sales efficiency and customer satisfaction\n",
      "- Future prospects and trends to watch out for in the market\n",
      "\n",
      "V. Target Audience Analysis\n",
      "- Homeowners looking for personalized interior design solutions\n",
      "- Interior designers seeking efficient sales automation tools\n",
      "- Home decor retailers aiming to enhance customer experience and boost sales\n",
      "\n",
      "VI. SEO Keywords\n",
      "- AI agents for sales automation\n",
      "- Interior design AI solutions\n",
      "- Home decor sales automation\n",
      "- AI chatbots for home decor\n",
      "- Virtual reality in interior design\n",
      "\n",
      "VII. Resources\n",
      "- Industry reports and studies on AI in interior design & home decor\n",
      "- Interviews with experts in the field\n",
      "- Case studies showcasing successful implementation of AI agents\n",
      "- Relevant articles and blogs on sales automation and AI technology in the industry\n",
      "\n",
      "Call to Action:\n",
      "- Encourage readers to explore AI solutions for their interior design and home decor sales needs\n",
      "- Provide links to leading AI providers in the market for further information and consultation\n",
      "\n",
      "Overall, this content plan aims to provide valuable insights into the use of AI agents for sales automation in the interior design & home decor industry. By highlighting the latest trends, key players, and noteworthy news, the article will inform and engage the target audience while also incorporating relevant SEO keywords for visibility. The detailed outline and resources will ensure a comprehensive and informative piece that meets the audience's interests and addresses their pain points effectively.\u001b[0m\n",
      "\n",
      "\u001b[1m> Finished chain.\u001b[0m\n",
      "\u001b[1m\u001b[92m [DEBUG]: == [Content Planner] Task output: Content Plan: AI Agents for Sales Automation in Interior Design & Home Decor\n",
      "\n",
      "Outline:\n",
      "I. Introduction\n",
      "- Definition of AI agents for sales automation in interior design & home decor\n",
      "- Importance of AI agents in the industry\n",
      "- Brief overview of key players in the market\n",
      "\n",
      "II. Latest Trends in AI Agents for Sales Automation\n",
      "- Personalization and customization features\n",
      "- Integration with virtual reality technology\n",
      "- Data-driven decision making\n",
      "- Enhanced customer engagement through AI chatbots\n",
      "\n",
      "III. Key Players in the Market\n",
      "- Mention of leading companies offering AI solutions for interior design & home decor sales\n",
      "- Showcase of successful case studies and their impact on the industry\n",
      "\n",
      "IV. Noteworthy News in the Industry\n",
      "- Recent developments in AI technology for sales automation\n",
      "- Impact of AI agents on improving sales efficiency and customer satisfaction\n",
      "- Future prospects and trends to watch out for in the market\n",
      "\n",
      "V. Target Audience Analysis\n",
      "- Homeowners looking for personalized interior design solutions\n",
      "- Interior designers seeking efficient sales automation tools\n",
      "- Home decor retailers aiming to enhance customer experience and boost sales\n",
      "\n",
      "VI. SEO Keywords\n",
      "- AI agents for sales automation\n",
      "- Interior design AI solutions\n",
      "- Home decor sales automation\n",
      "- AI chatbots for home decor\n",
      "- Virtual reality in interior design\n",
      "\n",
      "VII. Resources\n",
      "- Industry reports and studies on AI in interior design & home decor\n",
      "- Interviews with experts in the field\n",
      "- Case studies showcasing successful implementation of AI agents\n",
      "- Relevant articles and blogs on sales automation and AI technology in the industry\n",
      "\n",
      "Call to Action:\n",
      "- Encourage readers to explore AI solutions for their interior design and home decor sales needs\n",
      "- Provide links to leading AI providers in the market for further information and consultation\n",
      "\n",
      "Overall, this content plan aims to provide valuable insights into the use of AI agents for sales automation in the interior design & home decor industry. By highlighting the latest trends, key players, and noteworthy news, the article will inform and engage the target audience while also incorporating relevant SEO keywords for visibility. The detailed outline and resources will ensure a comprehensive and informative piece that meets the audience's interests and addresses their pain points effectively.\n",
      "\n",
      "\u001b[00m\n",
      "\u001b[1m\u001b[95m [DEBUG]: == Working Agent: Content Writer\u001b[00m\n",
      "\u001b[1m\u001b[95m [INFO]: == Starting Task: 1. Use the content plan to craft a compelling blog post on AI Agents for Sales Automation in Interior Design & Home Decor.\n",
      "2. Incorporate SEO keywords naturally.\n",
      "3. Sections/Subtitles are properly named in an engaging manner.\n",
      "4. Ensure the post is structured with an engaging introduction, insightful body, and a summarizing conclusion.\n",
      "5. Proofread for grammatical errors and alignment with the brand's voice.\n",
      "\u001b[00m\n",
      "\n",
      "\n",
      "\u001b[1m> Entering new CrewAgentExecutor chain...\u001b[0m\n",
      "\u001b[32;1m\u001b[1;3mI now can give a great answer\n",
      "\n",
      "Final Answer:\n",
      "\n",
      "# AI Agents for Sales Automation in Interior Design & Home Decor\n",
      "\n",
      "In today's rapidly evolving digital landscape, AI agents are revolutionizing the way sales automation is approached in the interior design and home decor industry. These intelligent agents utilize advanced algorithms and data analytics to streamline processes, enhance customer engagement, and drive sales efficiency. From personalized recommendations to virtual reality integration, AI agents are reshaping the way businesses interact with their customers and optimize their sales strategies.\n",
      "\n",
      "## Latest Trends in AI Agents for Sales Automation\n",
      "\n",
      "One of the key trends in AI agents for sales automation in interior design and home decor is the focus on personalization and customization features. By leveraging customer data and preferences, AI agents can recommend tailored design solutions and products, creating a more engaging and personalized shopping experience for consumers. Additionally, the integration of virtual reality technology allows customers to visualize products in their own spaces, increasing confidence in purchasing decisions and reducing returns.\n",
      "\n",
      "Data-driven decision making is another crucial trend in AI sales automation, as businesses can analyze customer behavior and trends to optimize their marketing strategies and product offerings. Furthermore, AI chatbots are enhancing customer engagement by providing instant support and assistance, improving overall satisfaction and driving repeat business.\n",
      "\n",
      "## Key Players in the Market\n",
      "\n",
      "Leading companies in the market offering AI solutions for interior design and home decor sales include industry giants like Houzz and Wayfair. These companies have successfully implemented AI agents to streamline their sales processes, improve customer experience, and drive revenue growth. Case studies showcasing the impact of AI agents on the industry highlight the significant improvements in sales efficiency and customer satisfaction, demonstrating the tangible benefits of adopting AI technology in the interior design and home decor sector.\n",
      "\n",
      "## Noteworthy News in the Industry\n",
      "\n",
      "Recent developments in AI technology for sales automation have shown promising results in improving sales efficiency and customer satisfaction. By leveraging AI agents, businesses can gain valuable insights into customer preferences, optimize their product offerings, and enhance the overall shopping experience. The future prospects and trends to watch out for in the market include further advancements in AI chatbot technology, increased integration with virtual reality, and a continued focus on data-driven decision making.\n",
      "\n",
      "## Target Audience Analysis\n",
      "\n",
      "The target audience for AI agents in interior design and home decor sales includes homeowners seeking personalized design solutions, interior designers looking for efficient sales automation tools, and home decor retailers aiming to enhance customer experience and boost sales. By understanding the unique needs and pain points of these target groups, businesses can tailor their AI solutions to address specific challenges and drive growth in the competitive industry.\n",
      "\n",
      "In conclusion, AI agents for sales automation in interior design and home decor are revolutionizing the way businesses interact with customers, optimize sales processes, and drive revenue growth. By staying abreast of the latest trends, key players in the market, and noteworthy news in the industry, businesses can harness the power of AI technology to stay competitive and meet the evolving needs of their target audience.\n",
      "\n",
      "*Call to Action:*\n",
      "As the industry continues to evolve, it is essential for businesses in the interior design and home decor sector to explore AI solutions for their sales automation needs. For further information and consultation, consider reaching out to leading AI providers in the market to see how AI agents can transform your business operations and drive success in the digital age.\u001b[0m\n",
      "\n",
      "\u001b[1m> Finished chain.\u001b[0m\n",
      "\u001b[1m\u001b[92m [DEBUG]: == [Content Writer] Task output: # AI Agents for Sales Automation in Interior Design & Home Decor\n",
      "\n",
      "In today's rapidly evolving digital landscape, AI agents are revolutionizing the way sales automation is approached in the interior design and home decor industry. These intelligent agents utilize advanced algorithms and data analytics to streamline processes, enhance customer engagement, and drive sales efficiency. From personalized recommendations to virtual reality integration, AI agents are reshaping the way businesses interact with their customers and optimize their sales strategies.\n",
      "\n",
      "## Latest Trends in AI Agents for Sales Automation\n",
      "\n",
      "One of the key trends in AI agents for sales automation in interior design and home decor is the focus on personalization and customization features. By leveraging customer data and preferences, AI agents can recommend tailored design solutions and products, creating a more engaging and personalized shopping experience for consumers. Additionally, the integration of virtual reality technology allows customers to visualize products in their own spaces, increasing confidence in purchasing decisions and reducing returns.\n",
      "\n",
      "Data-driven decision making is another crucial trend in AI sales automation, as businesses can analyze customer behavior and trends to optimize their marketing strategies and product offerings. Furthermore, AI chatbots are enhancing customer engagement by providing instant support and assistance, improving overall satisfaction and driving repeat business.\n",
      "\n",
      "## Key Players in the Market\n",
      "\n",
      "Leading companies in the market offering AI solutions for interior design and home decor sales include industry giants like Houzz and Wayfair. These companies have successfully implemented AI agents to streamline their sales processes, improve customer experience, and drive revenue growth. Case studies showcasing the impact of AI agents on the industry highlight the significant improvements in sales efficiency and customer satisfaction, demonstrating the tangible benefits of adopting AI technology in the interior design and home decor sector.\n",
      "\n",
      "## Noteworthy News in the Industry\n",
      "\n",
      "Recent developments in AI technology for sales automation have shown promising results in improving sales efficiency and customer satisfaction. By leveraging AI agents, businesses can gain valuable insights into customer preferences, optimize their product offerings, and enhance the overall shopping experience. The future prospects and trends to watch out for in the market include further advancements in AI chatbot technology, increased integration with virtual reality, and a continued focus on data-driven decision making.\n",
      "\n",
      "## Target Audience Analysis\n",
      "\n",
      "The target audience for AI agents in interior design and home decor sales includes homeowners seeking personalized design solutions, interior designers looking for efficient sales automation tools, and home decor retailers aiming to enhance customer experience and boost sales. By understanding the unique needs and pain points of these target groups, businesses can tailor their AI solutions to address specific challenges and drive growth in the competitive industry.\n",
      "\n",
      "In conclusion, AI agents for sales automation in interior design and home decor are revolutionizing the way businesses interact with customers, optimize sales processes, and drive revenue growth. By staying abreast of the latest trends, key players in the market, and noteworthy news in the industry, businesses can harness the power of AI technology to stay competitive and meet the evolving needs of their target audience.\n",
      "\n",
      "*Call to Action:*\n",
      "As the industry continues to evolve, it is essential for businesses in the interior design and home decor sector to explore AI solutions for their sales automation needs. For further information and consultation, consider reaching out to leading AI providers in the market to see how AI agents can transform your business operations and drive success in the digital age.\n",
      "\n",
      "\u001b[00m\n",
      "\u001b[1m\u001b[95m [DEBUG]: == Working Agent: Editor\u001b[00m\n",
      "\u001b[1m\u001b[95m [INFO]: == Starting Task: Proofread the given blog post for grammatical errors and alignment with the brand's voice.\u001b[00m\n",
      "\n",
      "\n",
      "\u001b[1m> Entering new CrewAgentExecutor chain...\u001b[0m\n",
      "\u001b[32;1m\u001b[1;3mI now can give a great answer\n",
      "\n",
      "Final Answer:\n",
      "\n",
      "# AI Agents for Sales Automation in Interior Design & Home Decor\n",
      "\n",
      "In today's rapidly evolving digital landscape, AI agents are revolutionizing the way sales automation is approached in the interior design and home decor industry. These intelligent agents utilize advanced algorithms and data analytics to streamline processes, enhance customer engagement, and drive sales efficiency. From personalized recommendations to virtual reality integration, AI agents are reshaping the way businesses interact with their customers and optimize their sales strategies.\n",
      "\n",
      "## Latest Trends in AI Agents for Sales Automation\n",
      "\n",
      "One of the key trends in AI agents for sales automation in interior design and home decor is the focus on personalization and customization features. By leveraging customer data and preferences, AI agents can recommend tailored design solutions and products, creating a more engaging and personalized shopping experience for consumers. Additionally, the integration of virtual reality technology allows customers to visualize products in their own spaces, increasing confidence in purchasing decisions and reducing returns.\n",
      "\n",
      "Data-driven decision making is another crucial trend in AI sales automation, as businesses can analyze customer behavior and trends to optimize their marketing strategies and product offerings. Furthermore, AI chatbots are enhancing customer engagement by providing instant support and assistance, improving overall satisfaction and driving repeat business.\n",
      "\n",
      "## Key Players in the Market\n",
      "\n",
      "Leading companies in the market offering AI solutions for interior design and home decor sales include industry giants like Houzz and Wayfair. These companies have successfully implemented AI agents to streamline their sales processes, improve customer experience, and drive revenue growth. Case studies showcasing the impact of AI agents on the industry highlight the significant improvements in sales efficiency and customer satisfaction, demonstrating the tangible benefits of adopting AI technology in the interior design and home decor sector.\n",
      "\n",
      "## Noteworthy News in the Industry\n",
      "\n",
      "Recent developments in AI technology for sales automation have shown promising results in improving sales efficiency and customer satisfaction. By leveraging AI agents, businesses can gain valuable insights into customer preferences, optimize their product offerings, and enhance the overall shopping experience. The future prospects and trends to watch out for in the market include further advancements in AI chatbot technology, increased integration with virtual reality, and a continued focus on data-driven decision making.\n",
      "\n",
      "## Target Audience Analysis\n",
      "\n",
      "The target audience for AI agents in interior design and home decor sales includes homeowners seeking personalized design solutions, interior designers looking for efficient sales automation tools, and home decor retailers aiming to enhance customer experience and boost sales. By understanding the unique needs and pain points of these target groups, businesses can tailor their AI solutions to address specific challenges and drive growth in the competitive industry.\n",
      "\n",
      "In conclusion, AI agents for sales automation in interior design and home decor are revolutionizing the way businesses interact with customers, optimize sales processes, and drive revenue growth. By staying abreast of the latest trends, key players in the market, and noteworthy news in the industry, businesses can harness the power of AI technology to stay competitive and meet the evolving needs of their target audience.\n",
      "\n",
      "*Call to Action:*\n",
      "As the industry continues to evolve, it is essential for businesses in the interior design and home decor sector to explore AI solutions for their sales automation needs. For further information and consultation, consider reaching out to leading AI providers in the market to see how AI agents can transform your business operations and drive success in the digital age.\u001b[0m\n",
      "\n",
      "\u001b[1m> Finished chain.\u001b[0m\n",
      "\u001b[1m\u001b[92m [DEBUG]: == [Editor] Task output: # AI Agents for Sales Automation in Interior Design & Home Decor\n",
      "\n",
      "In today's rapidly evolving digital landscape, AI agents are revolutionizing the way sales automation is approached in the interior design and home decor industry. These intelligent agents utilize advanced algorithms and data analytics to streamline processes, enhance customer engagement, and drive sales efficiency. From personalized recommendations to virtual reality integration, AI agents are reshaping the way businesses interact with their customers and optimize their sales strategies.\n",
      "\n",
      "## Latest Trends in AI Agents for Sales Automation\n",
      "\n",
      "One of the key trends in AI agents for sales automation in interior design and home decor is the focus on personalization and customization features. By leveraging customer data and preferences, AI agents can recommend tailored design solutions and products, creating a more engaging and personalized shopping experience for consumers. Additionally, the integration of virtual reality technology allows customers to visualize products in their own spaces, increasing confidence in purchasing decisions and reducing returns.\n",
      "\n",
      "Data-driven decision making is another crucial trend in AI sales automation, as businesses can analyze customer behavior and trends to optimize their marketing strategies and product offerings. Furthermore, AI chatbots are enhancing customer engagement by providing instant support and assistance, improving overall satisfaction and driving repeat business.\n",
      "\n",
      "## Key Players in the Market\n",
      "\n",
      "Leading companies in the market offering AI solutions for interior design and home decor sales include industry giants like Houzz and Wayfair. These companies have successfully implemented AI agents to streamline their sales processes, improve customer experience, and drive revenue growth. Case studies showcasing the impact of AI agents on the industry highlight the significant improvements in sales efficiency and customer satisfaction, demonstrating the tangible benefits of adopting AI technology in the interior design and home decor sector.\n",
      "\n",
      "## Noteworthy News in the Industry\n",
      "\n",
      "Recent developments in AI technology for sales automation have shown promising results in improving sales efficiency and customer satisfaction. By leveraging AI agents, businesses can gain valuable insights into customer preferences, optimize their product offerings, and enhance the overall shopping experience. The future prospects and trends to watch out for in the market include further advancements in AI chatbot technology, increased integration with virtual reality, and a continued focus on data-driven decision making.\n",
      "\n",
      "## Target Audience Analysis\n",
      "\n",
      "The target audience for AI agents in interior design and home decor sales includes homeowners seeking personalized design solutions, interior designers looking for efficient sales automation tools, and home decor retailers aiming to enhance customer experience and boost sales. By understanding the unique needs and pain points of these target groups, businesses can tailor their AI solutions to address specific challenges and drive growth in the competitive industry.\n",
      "\n",
      "In conclusion, AI agents for sales automation in interior design and home decor are revolutionizing the way businesses interact with customers, optimize sales processes, and drive revenue growth. By staying abreast of the latest trends, key players in the market, and noteworthy news in the industry, businesses can harness the power of AI technology to stay competitive and meet the evolving needs of their target audience.\n",
      "\n",
      "*Call to Action:*\n",
      "As the industry continues to evolve, it is essential for businesses in the interior design and home decor sector to explore AI solutions for their sales automation needs. For further information and consultation, consider reaching out to leading AI providers in the market to see how AI agents can transform your business operations and drive success in the digital age.\n",
      "\n",
      "\u001b[00m\n"
     ]
    }
   ],
   "source": [
    "result = crew.kickoff(inputs={\"topic\": \"AI Agents for Sales Automation in Interior Design & Home Decor\"})"
   ]
  },
  {
   "cell_type": "markdown",
   "metadata": {},
   "source": [
    "- Display the results of your execution as markdown in the notebook."
   ]
  },
  {
   "cell_type": "code",
   "execution_count": 39,
   "metadata": {
    "height": 47,
    "metadata": {}
   },
   "outputs": [
    {
     "data": {
      "text/markdown": [
       "# AI Agents for Sales Automation in Interior Design & Home Decor\n",
       "\n",
       "In today's rapidly evolving digital landscape, AI agents are revolutionizing the way sales automation is approached in the interior design and home decor industry. These intelligent agents utilize advanced algorithms and data analytics to streamline processes, enhance customer engagement, and drive sales efficiency. From personalized recommendations to virtual reality integration, AI agents are reshaping the way businesses interact with their customers and optimize their sales strategies.\n",
       "\n",
       "## Latest Trends in AI Agents for Sales Automation\n",
       "\n",
       "One of the key trends in AI agents for sales automation in interior design and home decor is the focus on personalization and customization features. By leveraging customer data and preferences, AI agents can recommend tailored design solutions and products, creating a more engaging and personalized shopping experience for consumers. Additionally, the integration of virtual reality technology allows customers to visualize products in their own spaces, increasing confidence in purchasing decisions and reducing returns.\n",
       "\n",
       "Data-driven decision making is another crucial trend in AI sales automation, as businesses can analyze customer behavior and trends to optimize their marketing strategies and product offerings. Furthermore, AI chatbots are enhancing customer engagement by providing instant support and assistance, improving overall satisfaction and driving repeat business.\n",
       "\n",
       "## Key Players in the Market\n",
       "\n",
       "Leading companies in the market offering AI solutions for interior design and home decor sales include industry giants like Houzz and Wayfair. These companies have successfully implemented AI agents to streamline their sales processes, improve customer experience, and drive revenue growth. Case studies showcasing the impact of AI agents on the industry highlight the significant improvements in sales efficiency and customer satisfaction, demonstrating the tangible benefits of adopting AI technology in the interior design and home decor sector.\n",
       "\n",
       "## Noteworthy News in the Industry\n",
       "\n",
       "Recent developments in AI technology for sales automation have shown promising results in improving sales efficiency and customer satisfaction. By leveraging AI agents, businesses can gain valuable insights into customer preferences, optimize their product offerings, and enhance the overall shopping experience. The future prospects and trends to watch out for in the market include further advancements in AI chatbot technology, increased integration with virtual reality, and a continued focus on data-driven decision making.\n",
       "\n",
       "## Target Audience Analysis\n",
       "\n",
       "The target audience for AI agents in interior design and home decor sales includes homeowners seeking personalized design solutions, interior designers looking for efficient sales automation tools, and home decor retailers aiming to enhance customer experience and boost sales. By understanding the unique needs and pain points of these target groups, businesses can tailor their AI solutions to address specific challenges and drive growth in the competitive industry.\n",
       "\n",
       "In conclusion, AI agents for sales automation in interior design and home decor are revolutionizing the way businesses interact with customers, optimize sales processes, and drive revenue growth. By staying abreast of the latest trends, key players in the market, and noteworthy news in the industry, businesses can harness the power of AI technology to stay competitive and meet the evolving needs of their target audience.\n",
       "\n",
       "*Call to Action:*\n",
       "As the industry continues to evolve, it is essential for businesses in the interior design and home decor sector to explore AI solutions for their sales automation needs. For further information and consultation, consider reaching out to leading AI providers in the market to see how AI agents can transform your business operations and drive success in the digital age."
      ],
      "text/plain": [
       "<IPython.core.display.Markdown object>"
      ]
     },
     "execution_count": 39,
     "metadata": {},
     "output_type": "execute_result"
    }
   ],
   "source": [
    "from IPython.display import Markdown\n",
    "Markdown(result)"
   ]
  },
  {
   "cell_type": "markdown",
   "metadata": {},
   "source": [
    "## Try it Yourself\n",
    "\n",
    "- Pass in a topic of your choice and see what the agents come up with!"
   ]
  },
  {
   "cell_type": "code",
   "execution_count": 40,
   "metadata": {
    "height": 47,
    "metadata": {}
   },
   "outputs": [
    {
     "name": "stdout",
     "output_type": "stream",
     "text": [
      "\u001b[1m\u001b[95m [DEBUG]: == Working Agent: Content Planner\u001b[00m\n",
      "\u001b[1m\u001b[95m [INFO]: == Starting Task: 1. Prioritize the latest trends, key players, and noteworthy news on YOUR TOPIC HERE.\n",
      "2. Identify the target audience, considering their interests and pain points.\n",
      "3. Develop a detailed content outline including an introduction, key points, and a call to action.\n",
      "4. Include SEO keywords and relevant data or sources.\u001b[00m\n",
      "\n",
      "\n",
      "\u001b[1m> Entering new CrewAgentExecutor chain...\u001b[0m\n",
      "\u001b[32;1m\u001b[1;3mI now can give a great answer\n",
      "\n",
      "Final Answer: \n",
      "\n",
      "Content Plan: \n",
      "Title: Exploring the Latest Trends in Sustainable Fashion\n",
      "\n",
      "Outline:\n",
      "I. Introduction\n",
      "- Brief overview of sustainable fashion\n",
      "- Importance of being mindful of environmental impact\n",
      "II. Latest Trends\n",
      "- Rise of eco-friendly materials like organic cotton and recycled fabrics\n",
      "- Growing popularity of slow fashion and minimalist wardrobes\n",
      "- Innovation in sustainable production techniques such as zero-waste manufacturing\n",
      "III. Key Players\n",
      "- Sustainable fashion brands leading the industry\n",
      "- Influencers promoting ethical and sustainable fashion choices\n",
      "- Organizations advocating for sustainable practices in the fashion industry\n",
      "IV. Noteworthy News\n",
      "- Recent collaborations between designers and sustainable brands\n",
      "- Impact of sustainable fashion initiatives on reducing carbon footprint\n",
      "V. Target Audience\n",
      "- Millennials and Gen Z consumers interested in ethical and eco-friendly products\n",
      "- Fashion enthusiasts looking to make conscious purchasing decisions\n",
      "- Individuals concerned about the environmental impact of the fashion industry\n",
      "VI. SEO Keywords\n",
      "- Sustainable fashion trends\n",
      "- Eco-friendly materials in fashion\n",
      "- Ethical clothing brands\n",
      "VII. Call to Action\n",
      "- Encourage readers to support sustainable fashion brands\n",
      "- Provide tips on how to incorporate sustainable practices into their wardrobe\n",
      "- Offer resources for further reading on sustainable fashion\n",
      "\n",
      "Resources:\n",
      "1. \"The True Cost\" documentary on fast fashion\n",
      "2. Sustainable Fashion Council's latest reports on industry trends\n",
      "3. Interviews with sustainable fashion designers on their innovative practices\n",
      "4. Fashion Revolution's Fashion Transparency Index for brands' sustainability ratings\n",
      "\n",
      "By following this comprehensive content plan, we aim to provide valuable insights and information on the latest trends in sustainable fashion for our target audience.\u001b[0m\n",
      "\n",
      "\u001b[1m> Finished chain.\u001b[0m\n",
      "\u001b[1m\u001b[92m [DEBUG]: == [Content Planner] Task output: Content Plan: \n",
      "Title: Exploring the Latest Trends in Sustainable Fashion\n",
      "\n",
      "Outline:\n",
      "I. Introduction\n",
      "- Brief overview of sustainable fashion\n",
      "- Importance of being mindful of environmental impact\n",
      "II. Latest Trends\n",
      "- Rise of eco-friendly materials like organic cotton and recycled fabrics\n",
      "- Growing popularity of slow fashion and minimalist wardrobes\n",
      "- Innovation in sustainable production techniques such as zero-waste manufacturing\n",
      "III. Key Players\n",
      "- Sustainable fashion brands leading the industry\n",
      "- Influencers promoting ethical and sustainable fashion choices\n",
      "- Organizations advocating for sustainable practices in the fashion industry\n",
      "IV. Noteworthy News\n",
      "- Recent collaborations between designers and sustainable brands\n",
      "- Impact of sustainable fashion initiatives on reducing carbon footprint\n",
      "V. Target Audience\n",
      "- Millennials and Gen Z consumers interested in ethical and eco-friendly products\n",
      "- Fashion enthusiasts looking to make conscious purchasing decisions\n",
      "- Individuals concerned about the environmental impact of the fashion industry\n",
      "VI. SEO Keywords\n",
      "- Sustainable fashion trends\n",
      "- Eco-friendly materials in fashion\n",
      "- Ethical clothing brands\n",
      "VII. Call to Action\n",
      "- Encourage readers to support sustainable fashion brands\n",
      "- Provide tips on how to incorporate sustainable practices into their wardrobe\n",
      "- Offer resources for further reading on sustainable fashion\n",
      "\n",
      "Resources:\n",
      "1. \"The True Cost\" documentary on fast fashion\n",
      "2. Sustainable Fashion Council's latest reports on industry trends\n",
      "3. Interviews with sustainable fashion designers on their innovative practices\n",
      "4. Fashion Revolution's Fashion Transparency Index for brands' sustainability ratings\n",
      "\n",
      "By following this comprehensive content plan, we aim to provide valuable insights and information on the latest trends in sustainable fashion for our target audience.\n",
      "\n",
      "\u001b[00m\n",
      "\u001b[1m\u001b[95m [DEBUG]: == Working Agent: Content Writer\u001b[00m\n",
      "\u001b[1m\u001b[95m [INFO]: == Starting Task: 1. Use the content plan to craft a compelling blog post on YOUR TOPIC HERE.\n",
      "2. Incorporate SEO keywords naturally.\n",
      "3. Sections/Subtitles are properly named in an engaging manner.\n",
      "4. Ensure the post is structured with an engaging introduction, insightful body, and a summarizing conclusion.\n",
      "5. Proofread for grammatical errors and alignment with the brand's voice.\n",
      "\u001b[00m\n",
      "\n",
      "\n",
      "\u001b[1m> Entering new CrewAgentExecutor chain...\u001b[0m\n",
      "\u001b[32;1m\u001b[1;3mI now can give a great answer\n",
      "\n",
      "Final Answer: \n",
      "\n",
      "# Exploring the Latest Trends in Sustainable Fashion\n",
      "\n",
      "In recent years, there has been a significant shift towards sustainable fashion as consumers become more aware of the environmental impact of the clothing industry. The concept of sustainable fashion revolves around creating clothing in an ethical and environmentally friendly manner, from the sourcing of materials to the production process. It is essential for individuals to be mindful of their purchasing decisions and opt for brands that prioritize sustainability.\n",
      "\n",
      "## Latest Trends\n",
      "\n",
      "One of the latest trends in sustainable fashion is the rise of eco-friendly materials such as organic cotton and recycled fabrics. These materials not only reduce the carbon footprint of clothing production but also promote a healthier environment. Additionally, there has been a growing popularity of slow fashion and minimalist wardrobes, encouraging consumers to invest in high-quality pieces that are designed to last.\n",
      "\n",
      "Innovation in sustainable production techniques is also on the rise, with the introduction of zero-waste manufacturing processes. These techniques aim to minimize waste during the production process, ultimately reducing the environmental impact of clothing production. By embracing these trends, the fashion industry can move towards a more sustainable future.\n",
      "\n",
      "## Key Players\n",
      "\n",
      "Sustainable fashion brands play a crucial role in leading the industry towards more ethical and eco-friendly practices. These brands prioritize transparency in their supply chain and are committed to reducing their environmental impact. Influencers also play a significant role in promoting ethical and sustainable fashion choices to their followers, encouraging them to make conscious purchasing decisions.\n",
      "\n",
      "Furthermore, organizations advocating for sustainable practices in the fashion industry are instrumental in driving change. They work towards raising awareness about the environmental and social impact of the clothing industry, pushing for more sustainable practices from brands and consumers alike.\n",
      "\n",
      "## Noteworthy News\n",
      "\n",
      "Recent collaborations between designers and sustainable brands have brought attention to the importance of sustainable fashion initiatives. These collaborations showcase the possibilities of creating stylish and innovative clothing while prioritizing sustainability. The impact of sustainable fashion initiatives on reducing the carbon footprint of the industry is evident, as more brands and consumers embrace eco-friendly practices.\n",
      "\n",
      "As consumers become more conscious of the environmental impact of the fashion industry, it is crucial for them to support sustainable fashion brands and make informed purchasing decisions. By incorporating sustainable practices into their wardrobe, individuals can contribute to a more sustainable future for the fashion industry and the planet as a whole.\n",
      "\n",
      "## Target Audience\n",
      "\n",
      "Millennials and Gen Z consumers are at the forefront of the sustainable fashion movement, showing a keen interest in ethical and eco-friendly products. Fashion enthusiasts looking to make conscious purchasing decisions are also part of the target audience for sustainable fashion content. Individuals who are concerned about the environmental impact of the fashion industry can benefit from learning more about sustainable practices and supporting brands that prioritize sustainability.\n",
      "\n",
      "In conclusion, exploring the latest trends in sustainable fashion is essential for individuals looking to make a positive impact on the environment through their clothing choices. By supporting sustainable fashion brands, incorporating eco-friendly materials into their wardrobe, and advocating for more sustainable practices in the industry, consumers can contribute to a more ethical and environmentally friendly fashion landscape. Let's work together towards a more sustainable future for the fashion industry and our planet.\u001b[0m\n",
      "\n",
      "\u001b[1m> Finished chain.\u001b[0m\n",
      "\u001b[1m\u001b[92m [DEBUG]: == [Content Writer] Task output: # Exploring the Latest Trends in Sustainable Fashion\n",
      "\n",
      "In recent years, there has been a significant shift towards sustainable fashion as consumers become more aware of the environmental impact of the clothing industry. The concept of sustainable fashion revolves around creating clothing in an ethical and environmentally friendly manner, from the sourcing of materials to the production process. It is essential for individuals to be mindful of their purchasing decisions and opt for brands that prioritize sustainability.\n",
      "\n",
      "## Latest Trends\n",
      "\n",
      "One of the latest trends in sustainable fashion is the rise of eco-friendly materials such as organic cotton and recycled fabrics. These materials not only reduce the carbon footprint of clothing production but also promote a healthier environment. Additionally, there has been a growing popularity of slow fashion and minimalist wardrobes, encouraging consumers to invest in high-quality pieces that are designed to last.\n",
      "\n",
      "Innovation in sustainable production techniques is also on the rise, with the introduction of zero-waste manufacturing processes. These techniques aim to minimize waste during the production process, ultimately reducing the environmental impact of clothing production. By embracing these trends, the fashion industry can move towards a more sustainable future.\n",
      "\n",
      "## Key Players\n",
      "\n",
      "Sustainable fashion brands play a crucial role in leading the industry towards more ethical and eco-friendly practices. These brands prioritize transparency in their supply chain and are committed to reducing their environmental impact. Influencers also play a significant role in promoting ethical and sustainable fashion choices to their followers, encouraging them to make conscious purchasing decisions.\n",
      "\n",
      "Furthermore, organizations advocating for sustainable practices in the fashion industry are instrumental in driving change. They work towards raising awareness about the environmental and social impact of the clothing industry, pushing for more sustainable practices from brands and consumers alike.\n",
      "\n",
      "## Noteworthy News\n",
      "\n",
      "Recent collaborations between designers and sustainable brands have brought attention to the importance of sustainable fashion initiatives. These collaborations showcase the possibilities of creating stylish and innovative clothing while prioritizing sustainability. The impact of sustainable fashion initiatives on reducing the carbon footprint of the industry is evident, as more brands and consumers embrace eco-friendly practices.\n",
      "\n",
      "As consumers become more conscious of the environmental impact of the fashion industry, it is crucial for them to support sustainable fashion brands and make informed purchasing decisions. By incorporating sustainable practices into their wardrobe, individuals can contribute to a more sustainable future for the fashion industry and the planet as a whole.\n",
      "\n",
      "## Target Audience\n",
      "\n",
      "Millennials and Gen Z consumers are at the forefront of the sustainable fashion movement, showing a keen interest in ethical and eco-friendly products. Fashion enthusiasts looking to make conscious purchasing decisions are also part of the target audience for sustainable fashion content. Individuals who are concerned about the environmental impact of the fashion industry can benefit from learning more about sustainable practices and supporting brands that prioritize sustainability.\n",
      "\n",
      "In conclusion, exploring the latest trends in sustainable fashion is essential for individuals looking to make a positive impact on the environment through their clothing choices. By supporting sustainable fashion brands, incorporating eco-friendly materials into their wardrobe, and advocating for more sustainable practices in the industry, consumers can contribute to a more ethical and environmentally friendly fashion landscape. Let's work together towards a more sustainable future for the fashion industry and our planet.\n",
      "\n",
      "\u001b[00m\n",
      "\u001b[1m\u001b[95m [DEBUG]: == Working Agent: Editor\u001b[00m\n",
      "\u001b[1m\u001b[95m [INFO]: == Starting Task: Proofread the given blog post for grammatical errors and alignment with the brand's voice.\u001b[00m\n",
      "\n",
      "\n",
      "\u001b[1m> Entering new CrewAgentExecutor chain...\u001b[0m\n",
      "\u001b[32;1m\u001b[1;3mI now can give a great answer\n",
      "\n",
      "Final Answer:\n",
      "\n",
      "# Exploring the Latest Trends in Sustainable Fashion\n",
      "\n",
      "In recent years, there has been a significant shift towards sustainable fashion as consumers become more aware of the environmental impact of the clothing industry. The concept of sustainable fashion revolves around creating clothing in an ethical and environmentally friendly manner, from the sourcing of materials to the production process. It is essential for individuals to be mindful of their purchasing decisions and opt for brands that prioritize sustainability.\n",
      "\n",
      "## Latest Trends\n",
      "\n",
      "One of the latest trends in sustainable fashion is the rise of eco-friendly materials such as organic cotton and recycled fabrics. These materials not only reduce the carbon footprint of clothing production but also promote a healthier environment. Additionally, there has been a growing popularity of slow fashion and minimalist wardrobes, encouraging consumers to invest in high-quality pieces that are designed to last.\n",
      "\n",
      "Innovation in sustainable production techniques is also on the rise, with the introduction of zero-waste manufacturing processes. These techniques aim to minimize waste during the production process, ultimately reducing the environmental impact of clothing production. By embracing these trends, the fashion industry can move towards a more sustainable future.\n",
      "\n",
      "## Key Players\n",
      "\n",
      "Sustainable fashion brands play a crucial role in leading the industry towards more ethical and eco-friendly practices. These brands prioritize transparency in their supply chain and are committed to reducing their environmental impact. Influencers also play a significant role in promoting ethical and sustainable fashion choices to their followers, encouraging them to make conscious purchasing decisions.\n",
      "\n",
      "Furthermore, organizations advocating for sustainable practices in the fashion industry are instrumental in driving change. They work towards raising awareness about the environmental and social impact of the clothing industry, pushing for more sustainable practices from brands and consumers alike.\n",
      "\n",
      "## Noteworthy News\n",
      "\n",
      "Recent collaborations between designers and sustainable brands have brought attention to the importance of sustainable fashion initiatives. These collaborations showcase the possibilities of creating stylish and innovative clothing while prioritizing sustainability. The impact of sustainable fashion initiatives on reducing the carbon footprint of the industry is evident, as more brands and consumers embrace eco-friendly practices.\n",
      "\n",
      "As consumers become more conscious of the environmental impact of the fashion industry, it is crucial for them to support sustainable fashion brands and make informed purchasing decisions. By incorporating sustainable practices into their wardrobe, individuals can contribute to a more sustainable future for the fashion industry and the planet as a whole.\n",
      "\n",
      "## Target Audience\n",
      "\n",
      "Millennials and Gen Z consumers are at the forefront of the sustainable fashion movement, showing a keen interest in ethical and eco-friendly products. Fashion enthusiasts looking to make conscious purchasing decisions are also part of the target audience for sustainable fashion content. Individuals who are concerned about the environmental impact of the fashion industry can benefit from learning more about sustainable practices and supporting brands that prioritize sustainability.\n",
      "\n",
      "In conclusion, exploring the latest trends in sustainable fashion is essential for individuals looking to make a positive impact on the environment through their clothing choices. By supporting sustainable fashion brands, incorporating eco-friendly materials into their wardrobe, and advocating for more sustainable practices in the industry, consumers can contribute to a more ethical and environmentally friendly fashion landscape. Let's work together towards a more sustainable future for the fashion industry and our planet.\u001b[0m\n",
      "\n",
      "\u001b[1m> Finished chain.\u001b[0m\n",
      "\u001b[1m\u001b[92m [DEBUG]: == [Editor] Task output: # Exploring the Latest Trends in Sustainable Fashion\n",
      "\n",
      "In recent years, there has been a significant shift towards sustainable fashion as consumers become more aware of the environmental impact of the clothing industry. The concept of sustainable fashion revolves around creating clothing in an ethical and environmentally friendly manner, from the sourcing of materials to the production process. It is essential for individuals to be mindful of their purchasing decisions and opt for brands that prioritize sustainability.\n",
      "\n",
      "## Latest Trends\n",
      "\n",
      "One of the latest trends in sustainable fashion is the rise of eco-friendly materials such as organic cotton and recycled fabrics. These materials not only reduce the carbon footprint of clothing production but also promote a healthier environment. Additionally, there has been a growing popularity of slow fashion and minimalist wardrobes, encouraging consumers to invest in high-quality pieces that are designed to last.\n",
      "\n",
      "Innovation in sustainable production techniques is also on the rise, with the introduction of zero-waste manufacturing processes. These techniques aim to minimize waste during the production process, ultimately reducing the environmental impact of clothing production. By embracing these trends, the fashion industry can move towards a more sustainable future.\n",
      "\n",
      "## Key Players\n",
      "\n",
      "Sustainable fashion brands play a crucial role in leading the industry towards more ethical and eco-friendly practices. These brands prioritize transparency in their supply chain and are committed to reducing their environmental impact. Influencers also play a significant role in promoting ethical and sustainable fashion choices to their followers, encouraging them to make conscious purchasing decisions.\n",
      "\n",
      "Furthermore, organizations advocating for sustainable practices in the fashion industry are instrumental in driving change. They work towards raising awareness about the environmental and social impact of the clothing industry, pushing for more sustainable practices from brands and consumers alike.\n",
      "\n",
      "## Noteworthy News\n",
      "\n",
      "Recent collaborations between designers and sustainable brands have brought attention to the importance of sustainable fashion initiatives. These collaborations showcase the possibilities of creating stylish and innovative clothing while prioritizing sustainability. The impact of sustainable fashion initiatives on reducing the carbon footprint of the industry is evident, as more brands and consumers embrace eco-friendly practices.\n",
      "\n",
      "As consumers become more conscious of the environmental impact of the fashion industry, it is crucial for them to support sustainable fashion brands and make informed purchasing decisions. By incorporating sustainable practices into their wardrobe, individuals can contribute to a more sustainable future for the fashion industry and the planet as a whole.\n",
      "\n",
      "## Target Audience\n",
      "\n",
      "Millennials and Gen Z consumers are at the forefront of the sustainable fashion movement, showing a keen interest in ethical and eco-friendly products. Fashion enthusiasts looking to make conscious purchasing decisions are also part of the target audience for sustainable fashion content. Individuals who are concerned about the environmental impact of the fashion industry can benefit from learning more about sustainable practices and supporting brands that prioritize sustainability.\n",
      "\n",
      "In conclusion, exploring the latest trends in sustainable fashion is essential for individuals looking to make a positive impact on the environment through their clothing choices. By supporting sustainable fashion brands, incorporating eco-friendly materials into their wardrobe, and advocating for more sustainable practices in the industry, consumers can contribute to a more ethical and environmentally friendly fashion landscape. Let's work together towards a more sustainable future for the fashion industry and our planet.\n",
      "\n",
      "\u001b[00m\n"
     ]
    }
   ],
   "source": [
    "topic = \"YOUR TOPIC HERE\"\n",
    "result = crew.kickoff(inputs={\"topic\": topic})"
   ]
  },
  {
   "cell_type": "code",
   "execution_count": 41,
   "metadata": {
    "height": 30,
    "metadata": {}
   },
   "outputs": [
    {
     "data": {
      "text/markdown": [
       "# Exploring the Latest Trends in Sustainable Fashion\n",
       "\n",
       "In recent years, there has been a significant shift towards sustainable fashion as consumers become more aware of the environmental impact of the clothing industry. The concept of sustainable fashion revolves around creating clothing in an ethical and environmentally friendly manner, from the sourcing of materials to the production process. It is essential for individuals to be mindful of their purchasing decisions and opt for brands that prioritize sustainability.\n",
       "\n",
       "## Latest Trends\n",
       "\n",
       "One of the latest trends in sustainable fashion is the rise of eco-friendly materials such as organic cotton and recycled fabrics. These materials not only reduce the carbon footprint of clothing production but also promote a healthier environment. Additionally, there has been a growing popularity of slow fashion and minimalist wardrobes, encouraging consumers to invest in high-quality pieces that are designed to last.\n",
       "\n",
       "Innovation in sustainable production techniques is also on the rise, with the introduction of zero-waste manufacturing processes. These techniques aim to minimize waste during the production process, ultimately reducing the environmental impact of clothing production. By embracing these trends, the fashion industry can move towards a more sustainable future.\n",
       "\n",
       "## Key Players\n",
       "\n",
       "Sustainable fashion brands play a crucial role in leading the industry towards more ethical and eco-friendly practices. These brands prioritize transparency in their supply chain and are committed to reducing their environmental impact. Influencers also play a significant role in promoting ethical and sustainable fashion choices to their followers, encouraging them to make conscious purchasing decisions.\n",
       "\n",
       "Furthermore, organizations advocating for sustainable practices in the fashion industry are instrumental in driving change. They work towards raising awareness about the environmental and social impact of the clothing industry, pushing for more sustainable practices from brands and consumers alike.\n",
       "\n",
       "## Noteworthy News\n",
       "\n",
       "Recent collaborations between designers and sustainable brands have brought attention to the importance of sustainable fashion initiatives. These collaborations showcase the possibilities of creating stylish and innovative clothing while prioritizing sustainability. The impact of sustainable fashion initiatives on reducing the carbon footprint of the industry is evident, as more brands and consumers embrace eco-friendly practices.\n",
       "\n",
       "As consumers become more conscious of the environmental impact of the fashion industry, it is crucial for them to support sustainable fashion brands and make informed purchasing decisions. By incorporating sustainable practices into their wardrobe, individuals can contribute to a more sustainable future for the fashion industry and the planet as a whole.\n",
       "\n",
       "## Target Audience\n",
       "\n",
       "Millennials and Gen Z consumers are at the forefront of the sustainable fashion movement, showing a keen interest in ethical and eco-friendly products. Fashion enthusiasts looking to make conscious purchasing decisions are also part of the target audience for sustainable fashion content. Individuals who are concerned about the environmental impact of the fashion industry can benefit from learning more about sustainable practices and supporting brands that prioritize sustainability.\n",
       "\n",
       "In conclusion, exploring the latest trends in sustainable fashion is essential for individuals looking to make a positive impact on the environment through their clothing choices. By supporting sustainable fashion brands, incorporating eco-friendly materials into their wardrobe, and advocating for more sustainable practices in the industry, consumers can contribute to a more ethical and environmentally friendly fashion landscape. Let's work together towards a more sustainable future for the fashion industry and our planet."
      ],
      "text/plain": [
       "<IPython.core.display.Markdown object>"
      ]
     },
     "execution_count": 41,
     "metadata": {},
     "output_type": "execute_result"
    }
   ],
   "source": [
    "Markdown(result)"
   ]
  },
  {
   "cell_type": "markdown",
   "metadata": {},
   "source": [
    "<a name='1'></a>\n",
    " ## Other Popular Models as LLM for your Agents"
   ]
  },
  {
   "cell_type": "markdown",
   "metadata": {},
   "source": [
    "#### Hugging Face (HuggingFaceHub endpoint)\n",
    "\n",
    "```Python\n",
    "from langchain_community.llms import HuggingFaceHub\n",
    "\n",
    "llm = HuggingFaceHub(\n",
    "    repo_id=\"HuggingFaceH4/zephyr-7b-beta\",\n",
    "    huggingfacehub_api_token=\"<HF_TOKEN_HERE>\",\n",
    "    task=\"text-generation\",\n",
    ")\n",
    "\n",
    "### you will pass \"llm\" to your agent function\n",
    "```"
   ]
  },
  {
   "cell_type": "markdown",
   "metadata": {},
   "source": [
    "#### Mistral API\n",
    "\n",
    "```Python\n",
    "OPENAI_API_KEY=your-mistral-api-key\n",
    "OPENAI_API_BASE=https://api.mistral.ai/v1\n",
    "OPENAI_MODEL_NAME=\"mistral-small\"\n",
    "```"
   ]
  },
  {
   "cell_type": "markdown",
   "metadata": {},
   "source": [
    "#### Cohere\n",
    "\n",
    "```Python\n",
    "from langchain_community.chat_models import ChatCohere\n",
    "# Initialize language model\n",
    "os.environ[\"COHERE_API_KEY\"] = \"your-cohere-api-key\"\n",
    "llm = ChatCohere()\n",
    "\n",
    "### you will pass \"llm\" to your agent function\n",
    "```"
   ]
  },
  {
   "cell_type": "markdown",
   "metadata": {},
   "source": [
    "### For using Llama locally with Ollama and more, checkout the crewAI documentation on [Connecting to any LLM](https://docs.crewai.com/how-to/LLM-Connections/)."
   ]
  },
  {
   "cell_type": "code",
   "execution_count": null,
   "metadata": {
    "height": 30
   },
   "outputs": [],
   "source": []
  },
  {
   "cell_type": "code",
   "execution_count": null,
   "metadata": {
    "height": 30
   },
   "outputs": [],
   "source": []
  },
  {
   "cell_type": "code",
   "execution_count": null,
   "metadata": {
    "height": 30
   },
   "outputs": [],
   "source": []
  }
 ],
 "metadata": {
  "colab": {
   "gpuType": "T4",
   "provenance": []
  },
  "kernelspec": {
   "display_name": "Python 3 (ipykernel)",
   "language": "python",
   "name": "python3"
  },
  "language_info": {
   "codemirror_mode": {
    "name": "ipython",
    "version": 3
   },
   "file_extension": ".py",
   "mimetype": "text/x-python",
   "name": "python",
   "nbconvert_exporter": "python",
   "pygments_lexer": "ipython3",
   "version": "3.11.11"
  }
 },
 "nbformat": 4,
 "nbformat_minor": 4
}
